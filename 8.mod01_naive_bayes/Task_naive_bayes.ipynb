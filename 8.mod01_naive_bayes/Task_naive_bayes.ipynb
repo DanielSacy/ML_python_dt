{
 "cells": [
  {
   "cell_type": "code",
   "execution_count": 1,
   "metadata": {},
   "outputs": [],
   "source": [
    "import pandas as pd\n",
    "\n",
    "data = pd.read_csv(r'E:\\DAY2DAY\\Python_MachineLearning_DidaticaTech\\ML_python_dt\\datasets\\wine_dataset.csv')\n",
    "features = data.drop(columns='style')\n",
    "label = data['style']"
   ]
  },
  {
   "cell_type": "code",
   "execution_count": 2,
   "metadata": {},
   "outputs": [
    {
     "data": {
      "text/plain": [
       "fixed_acidity           0\n",
       "volatile_acidity        0\n",
       "citric_acid             0\n",
       "residual_sugar          0\n",
       "chlorides               0\n",
       "free_sulfur_dioxide     0\n",
       "total_sulfur_dioxide    0\n",
       "density                 0\n",
       "pH                      0\n",
       "sulphates               0\n",
       "alcohol                 0\n",
       "quality                 0\n",
       "dtype: int64"
      ]
     },
     "execution_count": 2,
     "metadata": {},
     "output_type": "execute_result"
    }
   ],
   "source": [
    "# features.head()\n",
    "# label.head()\n",
    "# features.infer_objects().dtypes\n",
    "# features.info()\n",
    "# features.describe()\n",
    "features.isnull().sum()"
   ]
  },
  {
   "cell_type": "code",
   "execution_count": 3,
   "metadata": {},
   "outputs": [
    {
     "name": "stdout",
     "output_type": "stream",
     "text": [
      "Accuracy:        0.976        \n"
     ]
    }
   ],
   "source": [
    "from sklearn.model_selection import train_test_split\n",
    "from sklearn.preprocessing import StandardScaler\n",
    "from sklearn.naive_bayes import GaussianNB\n",
    "\n",
    "#Normalizing features\n",
    "standardnorm = StandardScaler() # Always instanciate first\n",
    "features_norm = standardnorm.fit_transform(features)\n",
    "\n",
    "#Splitting data\n",
    "features_train, features_test, label_train, label_test = train_test_split(features_norm, label, test_size=0.3, random_state=67)\n",
    "\n",
    "#Setting the model\n",
    "gaussian_model = GaussianNB()\n",
    "gaussian_model.fit(features_train, label_train)\n",
    "\n",
    "#Results\n",
    "result = gaussian_model.score(features_test, label_test)\n",
    "print(f'Accuracy: {result:^20.3f}')"
   ]
  },
  {
   "cell_type": "code",
   "execution_count": 5,
   "metadata": {},
   "outputs": [
    {
     "name": "stdout",
     "output_type": "stream",
     "text": [
      "Mean Accuracy:        0.973        \n"
     ]
    }
   ],
   "source": [
    "from sklearn.model_selection import StratifiedKFold\n",
    "from sklearn.model_selection import cross_val_score\n",
    "\n",
    "#Instanciating StratifiedKFold \n",
    "skfold = StratifiedKFold(5)\n",
    "\n",
    "#Cross Validation\n",
    "result_cross_val = cross_val_score(gaussian_model, features_norm, label, cv=skfold)\n",
    "result_cross_val_mean = result_cross_val.mean()\n",
    "\n",
    "print(f'Mean Accuracy: {result_cross_val_mean:^20.3f}')\n",
    "\n"
   ]
  }
 ],
 "metadata": {
  "kernelspec": {
   "display_name": "Python 3",
   "language": "python",
   "name": "python3"
  },
  "language_info": {
   "codemirror_mode": {
    "name": "ipython",
    "version": 3
   },
   "file_extension": ".py",
   "mimetype": "text/x-python",
   "name": "python",
   "nbconvert_exporter": "python",
   "pygments_lexer": "ipython3",
   "version": "3.10.11"
  },
  "orig_nbformat": 4
 },
 "nbformat": 4,
 "nbformat_minor": 2
}
