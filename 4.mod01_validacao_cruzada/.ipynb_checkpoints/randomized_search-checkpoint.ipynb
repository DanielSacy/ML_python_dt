{
 "cells": [
  {
   "cell_type": "code",
   "execution_count": 5,
   "id": "422145a2",
   "metadata": {},
   "outputs": [],
   "source": [
    "import pandas as pd\n",
    "import numpy as np\n",
    "pd.set_option('display.max_columns', None)\n",
    "\n",
    "data = pd.read_csv(\"E:/DAY2DAY/Python_MachineLearning_DidaticaTech/ML_python_dt/datasets/Admission_Predict.csv\")"
   ]
  },
  {
   "cell_type": "code",
   "execution_count": 3,
   "id": "990ae841",
   "metadata": {},
   "outputs": [],
   "source": [
    "label = data['Chance of Admit ']\n",
    "features = data[data.columns[1:8]]"
   ]
  },
  {
   "cell_type": "code",
   "execution_count": 4,
   "id": "3f2bea3f",
   "metadata": {},
   "outputs": [],
   "source": [
    "from sklearn.model_selection import RandomizedSearchCV\n",
    "from sklearn.linear_model import ElasticNet"
   ]
  },
  {
   "cell_type": "code",
   "execution_count": 31,
   "id": "df543471",
   "metadata": {},
   "outputs": [],
   "source": [
    "# Definição do range de valores a serem testados\n",
    "values = {'alpha': [0.1,0.5,1,2] + np.arange(5, 300, 5).tolist(), 'l1_ratio': np.arange(0.02, 1, 0.05).tolist()}"
   ]
  },
  {
   "cell_type": "code",
   "execution_count": 32,
   "id": "1833a56e",
   "metadata": {},
   "outputs": [
    {
     "name": "stdout",
     "output_type": "stream",
     "text": [
      "[0.02, 0.07, 0.12000000000000001, 0.17, 0.22, 0.27, 0.32000000000000006, 0.37000000000000005, 0.42000000000000004, 0.47000000000000003, 0.52, 0.5700000000000001, 0.6200000000000001, 0.67, 0.7200000000000001, 0.77, 0.8200000000000001, 0.8700000000000001, 0.92, 0.9700000000000001]\n"
     ]
    }
   ],
   "source": [
    "print(values['l1_ratio'])"
   ]
  }
 ],
 "metadata": {
  "kernelspec": {
   "display_name": "Python 3 (ipykernel)",
   "language": "python",
   "name": "python3"
  },
  "language_info": {
   "codemirror_mode": {
    "name": "ipython",
    "version": 3
   },
   "file_extension": ".py",
   "mimetype": "text/x-python",
   "name": "python",
   "nbconvert_exporter": "python",
   "pygments_lexer": "ipython3",
   "version": "3.10.11"
  }
 },
 "nbformat": 4,
 "nbformat_minor": 5
}
