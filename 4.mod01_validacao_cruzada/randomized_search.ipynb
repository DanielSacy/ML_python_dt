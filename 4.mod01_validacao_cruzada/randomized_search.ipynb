{
 "cells": [
  {
   "cell_type": "code",
   "execution_count": 2,
   "id": "422145a2",
   "metadata": {},
   "outputs": [],
   "source": [
    "import pandas as pd\n",
    "import numpy as np\n",
    "pd.set_option('display.max_columns', None)\n",
    "\n",
    "data = pd.read_csv(\"E:/DAY2DAY/Python_MachineLearning_DidaticaTech/ML_python_dt/datasets/Admission_Predict.csv\")"
   ]
  },
  {
   "cell_type": "code",
   "execution_count": 3,
   "id": "990ae841",
   "metadata": {},
   "outputs": [],
   "source": [
    "label = data['Chance of Admit ']\n",
    "features = data[data.columns[1:8]]"
   ]
  },
  {
   "cell_type": "code",
   "execution_count": 4,
   "id": "3f2bea3f",
   "metadata": {},
   "outputs": [],
   "source": [
    "from sklearn.model_selection import RandomizedSearchCV\n",
    "from sklearn.linear_model import ElasticNet"
   ]
  },
  {
   "cell_type": "code",
   "execution_count": 12,
   "id": "df543471",
   "metadata": {},
   "outputs": [],
   "source": [
    "# Definição do range de valores a serem testados\n",
    "values = {'alpha': [0.1,0.2,0.3,0.5,1,2] + np.arange(5, 300, 5).tolist(), 'l1_ratio': np.arange(0.02, 1, 0.05).tolist()}"
   ]
  },
  {
   "cell_type": "code",
   "execution_count": 6,
   "id": "1833a56e",
   "metadata": {},
   "outputs": [
    {
     "name": "stdout",
     "output_type": "stream",
     "text": [
      "{'alpha': [0.1, 0.5, 1, 2, 5, 10, 15, 20, 25, 30, 35, 40, 45, 50, 55, 60, 65, 70, 75, 80, 85, 90, 95, 100, 105, 110, 115, 120, 125, 130, 135, 140, 145, 150, 155, 160, 165, 170, 175, 180, 185, 190, 195, 200, 205, 210, 215, 220, 225, 230, 235, 240, 245, 250, 255, 260, 265, 270, 275, 280, 285, 290, 295], 'l1_ratio': [0.02, 0.07, 0.12000000000000001, 0.17, 0.22, 0.27, 0.32000000000000006, 0.37000000000000005, 0.42000000000000004, 0.47000000000000003, 0.52, 0.5700000000000001, 0.6200000000000001, 0.67, 0.7200000000000001, 0.77, 0.8200000000000001, 0.8700000000000001, 0.92, 0.9700000000000001]}\n"
     ]
    }
   ],
   "source": [
    "import time"
   ]
  },
  {
   "cell_type": "code",
   "execution_count": 14,
   "id": "aade6f1f",
   "metadata": {},
   "outputs": [
    {
     "name": "stdout",
     "output_type": "stream",
     "text": [
      "Best Score 0.7408292165331446\n",
      "Best Alpha 0.1\n",
      "Best l1_ratio 0.02\n"
     ]
    }
   ],
   "source": [
    "model = ElasticNet()\n",
    "search = RandomizedSearchCV(estimator=model, param_distributions=values, n_iter=400, cv=5, random_state=15)\n",
    "search.fit(features,label)\n",
    "\n",
    "#Printing results\n",
    "print(f'Best Score {search.best_score_}')\n",
    "print(f'Best Alpha {search.best_estimator_.alpha}')\n",
    "print(f'Best l1_ratio {search.best_estimator_.l1_ratio}')"
   ]
  },
  {
   "cell_type": "code",
   "execution_count": 17,
   "id": "cd041529",
   "metadata": {},
   "outputs": [
    {
     "name": "stdout",
     "output_type": "stream",
     "text": [
      "Best Score 0.7408292165331446\n",
      "Best Alpha 0.1\n",
      "Best l1_ratio 0.02\n"
     ]
    }
   ],
   "source": [
    "from sklearn.model_selection import GridSearchCV\n",
    "search2 = GridSearchCV(estimator=model, param_grid=values, cv=5)\n",
    "search2.fit(features,label)\n",
    "\n",
    "#Printing results\n",
    "print(f'Best Score {search2.best_score_}')\n",
    "print(f'Best Alpha {search2.best_estimator_.alpha}')\n",
    "print(f'Best l1_ratio {search2.best_estimator_.l1_ratio}')\n"
   ]
  }
 ],
 "metadata": {
  "kernelspec": {
   "display_name": "Python 3 (ipykernel)",
   "language": "python",
   "name": "python3"
  },
  "language_info": {
   "codemirror_mode": {
    "name": "ipython",
    "version": 3
   },
   "file_extension": ".py",
   "mimetype": "text/x-python",
   "name": "python",
   "nbconvert_exporter": "python",
   "pygments_lexer": "ipython3",
   "version": "3.10.11"
  }
 },
 "nbformat": 4,
 "nbformat_minor": 5
}
