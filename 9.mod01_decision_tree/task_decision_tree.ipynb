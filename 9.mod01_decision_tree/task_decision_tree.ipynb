{
 "cells": [
  {
   "cell_type": "markdown",
   "metadata": {},
   "source": [
    "### WEKA 2c dataset with decision tree"
   ]
  },
  {
   "cell_type": "code",
   "execution_count": 35,
   "metadata": {},
   "outputs": [],
   "source": [
    "import pandas as pd\n",
    "data_origin = pd.read_csv(\"../datasets/column_2C_weka.csv\")"
   ]
  },
  {
   "cell_type": "code",
   "execution_count": 36,
   "metadata": {},
   "outputs": [
    {
     "data": {
      "text/html": [
       "<div>\n",
       "<style scoped>\n",
       "    .dataframe tbody tr th:only-of-type {\n",
       "        vertical-align: middle;\n",
       "    }\n",
       "\n",
       "    .dataframe tbody tr th {\n",
       "        vertical-align: top;\n",
       "    }\n",
       "\n",
       "    .dataframe thead th {\n",
       "        text-align: right;\n",
       "    }\n",
       "</style>\n",
       "<table border=\"1\" class=\"dataframe\">\n",
       "  <thead>\n",
       "    <tr style=\"text-align: right;\">\n",
       "      <th></th>\n",
       "      <th>pelvic_incidence</th>\n",
       "      <th>pelvic_tilt numeric</th>\n",
       "      <th>lumbar_lordosis_angle</th>\n",
       "      <th>sacral_slope</th>\n",
       "      <th>pelvic_radius</th>\n",
       "      <th>degree_spondylolisthesis</th>\n",
       "      <th>class</th>\n",
       "    </tr>\n",
       "  </thead>\n",
       "  <tbody>\n",
       "    <tr>\n",
       "      <th>0</th>\n",
       "      <td>63.027817</td>\n",
       "      <td>22.552586</td>\n",
       "      <td>39.609117</td>\n",
       "      <td>40.475232</td>\n",
       "      <td>98.672917</td>\n",
       "      <td>-0.254400</td>\n",
       "      <td>Abnormal</td>\n",
       "    </tr>\n",
       "    <tr>\n",
       "      <th>1</th>\n",
       "      <td>39.056951</td>\n",
       "      <td>10.060991</td>\n",
       "      <td>25.015378</td>\n",
       "      <td>28.995960</td>\n",
       "      <td>114.405425</td>\n",
       "      <td>4.564259</td>\n",
       "      <td>Abnormal</td>\n",
       "    </tr>\n",
       "    <tr>\n",
       "      <th>2</th>\n",
       "      <td>68.832021</td>\n",
       "      <td>22.218482</td>\n",
       "      <td>50.092194</td>\n",
       "      <td>46.613539</td>\n",
       "      <td>105.985135</td>\n",
       "      <td>-3.530317</td>\n",
       "      <td>Abnormal</td>\n",
       "    </tr>\n",
       "    <tr>\n",
       "      <th>3</th>\n",
       "      <td>69.297008</td>\n",
       "      <td>24.652878</td>\n",
       "      <td>44.311238</td>\n",
       "      <td>44.644130</td>\n",
       "      <td>101.868495</td>\n",
       "      <td>11.211523</td>\n",
       "      <td>Abnormal</td>\n",
       "    </tr>\n",
       "    <tr>\n",
       "      <th>4</th>\n",
       "      <td>49.712859</td>\n",
       "      <td>9.652075</td>\n",
       "      <td>28.317406</td>\n",
       "      <td>40.060784</td>\n",
       "      <td>108.168725</td>\n",
       "      <td>7.918501</td>\n",
       "      <td>Abnormal</td>\n",
       "    </tr>\n",
       "  </tbody>\n",
       "</table>\n",
       "</div>"
      ],
      "text/plain": [
       "   pelvic_incidence  pelvic_tilt numeric  lumbar_lordosis_angle  sacral_slope  \\\n",
       "0         63.027817            22.552586              39.609117     40.475232   \n",
       "1         39.056951            10.060991              25.015378     28.995960   \n",
       "2         68.832021            22.218482              50.092194     46.613539   \n",
       "3         69.297008            24.652878              44.311238     44.644130   \n",
       "4         49.712859             9.652075              28.317406     40.060784   \n",
       "\n",
       "   pelvic_radius  degree_spondylolisthesis     class  \n",
       "0      98.672917                 -0.254400  Abnormal  \n",
       "1     114.405425                  4.564259  Abnormal  \n",
       "2     105.985135                 -3.530317  Abnormal  \n",
       "3     101.868495                 11.211523  Abnormal  \n",
       "4     108.168725                  7.918501  Abnormal  "
      ]
     },
     "execution_count": 36,
     "metadata": {},
     "output_type": "execute_result"
    }
   ],
   "source": [
    "data_origin.head()\n",
    "# data_origin.info()"
   ]
  },
  {
   "cell_type": "code",
   "execution_count": 37,
   "metadata": {},
   "outputs": [],
   "source": [
    "label_categorical = data_origin.get('class')\n",
    "features = data_origin.drop('class', axis=1)\n",
    "\n",
    "# label_categorical.head()\n",
    "# features.head()"
   ]
  },
  {
   "cell_type": "code",
   "execution_count": 38,
   "metadata": {},
   "outputs": [
    {
     "name": "stdout",
     "output_type": "stream",
     "text": [
      "[[ 0.14708636  0.50136873 -0.6651769  -0.18495031 -1.4476468  -0.70805942]\n",
      " [-1.24586434 -0.74876898 -1.45300075 -1.0415207  -0.26438488 -0.57955637]\n",
      " [ 0.4843695   0.46793218 -0.09926175  0.2730833  -0.89768556 -0.79542095]\n",
      " ...\n",
      " [ 0.05520137  0.51561812 -0.31097748 -0.31356364  0.58289256 -0.77348834]\n",
      " [-0.88582307 -0.88565951 -0.55861259 -0.47712775  0.04702109 -0.69554822]\n",
      " [-1.54892681 -1.24785954 -0.82539423 -1.05855695  0.45311695 -0.70658867]]\n"
     ]
    }
   ],
   "source": [
    "from sklearn.preprocessing import LabelEncoder\n",
    "from sklearn.preprocessing import StandardScaler\n",
    "\n",
    "#Preprocessing the features\n",
    "#scaling the features\n",
    "standardScaler = StandardScaler()\n",
    "features_norm = standardScaler.fit_transform(features)\n",
    "print(features_norm)\n",
    "\n",
    "\n",
    "#instanciating the label encoder\n",
    "label_encoder = LabelEncoder()\n",
    "#transform label column\n",
    "label_array = label_encoder.fit_transform(label_categorical)\n",
    "label = pd.DataFrame(label_array, columns=['class'])\n",
    "# print(label_array)\n",
    "# label.head()\n",
    "# label.info\n",
    "# counts = label.value_counts()\n",
    "# print(counts)"
   ]
  },
  {
   "cell_type": "code",
   "execution_count": 39,
   "metadata": {},
   "outputs": [
    {
     "name": "stdout",
     "output_type": "stream",
     "text": [
      "Min_split: 3\n",
      "Max_split: 11\n",
      "Chosen algorithm: log_loss\n",
      "R2 Coefficient: 0.674\n"
     ]
    }
   ],
   "source": [
    "import numpy as np\n",
    "from sklearn.tree import DecisionTreeClassifier\n",
    "from sklearn.model_selection import GridSearchCV\n",
    "from sklearn.model_selection import KFold\n",
    "\n",
    "#Setting the values for GridSearch\n",
    "kfold = KFold(n_splits=5)\n",
    "min_split = list(np.arange(2,10,1))\n",
    "max_split = list(np.arange(3,12,1))\n",
    "algorithms = ['gini','entropy', 'log_loss']\n",
    "grid_values = {'min_samples_split':min_split, 'max_depth':max_split, 'criterion':algorithms}\n",
    "\n",
    "#New model\n",
    "model = DecisionTreeClassifier()\n",
    "\n",
    "#Grid creation\n",
    "gridDecisionTree = GridSearchCV(estimator=model, param_grid=grid_values, cv=kfold)\n",
    "gridDecisionTree.fit(features_norm, label)\n",
    "\n",
    "#printing results\n",
    "print(f'Min_split: {gridDecisionTree.best_estimator_.min_samples_split}')\n",
    "print(f'Max_split: {gridDecisionTree.best_estimator_.max_depth}')\n",
    "print(f'Chosen algorithm: {gridDecisionTree.best_estimator_.criterion}')\n",
    "print(f'R2 Coefficient: {gridDecisionTree.best_score_:.3f}')"
   ]
  }
 ],
 "metadata": {
  "kernelspec": {
   "display_name": "Python 3",
   "language": "python",
   "name": "python3"
  },
  "language_info": {
   "codemirror_mode": {
    "name": "ipython",
    "version": 3
   },
   "file_extension": ".py",
   "mimetype": "text/x-python",
   "name": "python",
   "nbconvert_exporter": "python",
   "pygments_lexer": "ipython3",
   "version": "3.10.11"
  }
 },
 "nbformat": 4,
 "nbformat_minor": 2
}
