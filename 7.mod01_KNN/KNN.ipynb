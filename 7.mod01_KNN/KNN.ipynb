{
 "cells": [
  {
   "cell_type": "markdown",
   "metadata": {},
   "source": [
    "# KNN"
   ]
  },
  {
   "cell_type": "code",
   "execution_count": 1,
   "metadata": {},
   "outputs": [],
   "source": [
    "#Setting the dataset\n",
    "from sklearn.datasets import load_breast_cancer\n",
    "import pandas as pd\n",
    "pd.set_option('display.max_columns', None)\n",
    "data = load_breast_cancer()\n",
    "features = pd.DataFrame(data.data, columns=[data.feature_names])\n",
    "label = pd.Series(data.target, name='Target')"
   ]
  },
  {
   "cell_type": "code",
   "execution_count": 2,
   "metadata": {},
   "outputs": [
    {
     "data": {
      "text/plain": [
       "0     0\n",
       "1     0\n",
       "2     0\n",
       "3     0\n",
       "4     0\n",
       "     ..\n",
       "95    0\n",
       "96    1\n",
       "97    1\n",
       "98    1\n",
       "99    0\n",
       "Name: Target, Length: 100, dtype: int32"
      ]
     },
     "execution_count": 2,
     "metadata": {},
     "output_type": "execute_result"
    }
   ],
   "source": [
    "label.head(100)"
   ]
  },
  {
   "cell_type": "code",
   "execution_count": 15,
   "metadata": {},
   "outputs": [
    {
     "name": "stdout",
     "output_type": "stream",
     "text": [
      "Accuracy      0.965\n"
     ]
    }
   ],
   "source": [
    "from sklearn.neighbors import KNeighborsClassifier\n",
    "from sklearn.preprocessing import MinMaxScaler\n",
    "from sklearn.model_selection import train_test_split\n",
    "\n",
    "#Normalizing predicting variables\n",
    "minMaxNorm = MinMaxScaler(feature_range=(0,1))\n",
    "features_norm = minMaxNorm.fit_transform(features)\n",
    "\n",
    "#Splitting test and train data\n",
    "features_train, features_test, label_train, label_test = train_test_split(features_norm, label, test_size=0.3, random_state=16)\n",
    "\n",
    "#Setting the model and training it\n",
    "model = KNeighborsClassifier(n_neighbors=5)\n",
    "model.fit(features_train, label_train)\n",
    "\n",
    "#Score\n",
    "result = model.score(features_test, label_test)\n",
    "print(f'Accuracy {result:>10.3f}')"
   ]
  },
  {
   "cell_type": "markdown",
   "metadata": {},
   "source": [
    "### FINE TUNING THE PARAMETERS"
   ]
  },
  {
   "cell_type": "code",
   "execution_count": 19,
   "metadata": {},
   "outputs": [
    {
     "name": "stdout",
     "output_type": "stream",
     "text": [
      "Best Accuracy: 0.970\n",
      "Best K: 3\n",
      "Best Distance: minkowski\n",
      "Best P Value: 1\n"
     ]
    }
   ],
   "source": [
    "import numpy as np\n",
    "from sklearn.model_selection import GridSearchCV\n",
    "\n",
    "#Defining the variables values to be used in the KNN\n",
    "k_values = np.array([3,5,7,9,11])\n",
    "distance_type_metric = ['minkowski','chebyshev']\n",
    "p_values = np.array([1,2,3,4])\n",
    "grid_values = {'n_neighbors': k_values, 'metric': distance_type_metric, 'p':p_values}\n",
    "\n",
    "#Model setting\n",
    "model2 = KNeighborsClassifier()\n",
    "\n",
    "#Grid Creation\n",
    "gridKNN = GridSearchCV(estimator=model2, param_grid=grid_values, cv=5)\n",
    "gridKNN.fit(features_norm, label)\n",
    "\n",
    "#Printing results\n",
    "print(f'Best Accuracy: {gridKNN.best_score_:.3f}')\n",
    "print(f'Best K: {gridKNN.best_estimator_.n_neighbors}')\n",
    "print(f'Best Distance: {gridKNN.best_estimator_.metric}')\n",
    "print(f'Best P Value: {gridKNN.best_estimator_.p}')"
   ]
  }
 ],
 "metadata": {
  "kernelspec": {
   "display_name": "Python 3",
   "language": "python",
   "name": "python3"
  },
  "language_info": {
   "codemirror_mode": {
    "name": "ipython",
    "version": 3
   },
   "file_extension": ".py",
   "mimetype": "text/x-python",
   "name": "python",
   "nbconvert_exporter": "python",
   "pygments_lexer": "ipython3",
   "version": "3.10.11"
  },
  "orig_nbformat": 4
 },
 "nbformat": 4,
 "nbformat_minor": 2
}
