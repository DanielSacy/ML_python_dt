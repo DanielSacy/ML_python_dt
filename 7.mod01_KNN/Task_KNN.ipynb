{
 "cells": [
  {
   "cell_type": "markdown",
   "metadata": {},
   "source": [
    "# 1. Iris Flower Classification Using KNN"
   ]
  },
  {
   "cell_type": "code",
   "execution_count": 4,
   "metadata": {},
   "outputs": [],
   "source": [
    "from sklearn.datasets import load_iris\n",
    "import pandas as pd\n",
    "\n",
    "#Instanciating the dataset\n",
    "iris = load_iris()\n",
    "\n",
    "features = pd.DataFrame(iris['data'], columns=iris['feature_names'])\n",
    "label = pd.Series(iris['target'])\n"
   ]
  },
  {
   "cell_type": "code",
   "execution_count": 6,
   "metadata": {},
   "outputs": [
    {
     "data": {
      "text/html": [
       "<div>\n",
       "<style scoped>\n",
       "    .dataframe tbody tr th:only-of-type {\n",
       "        vertical-align: middle;\n",
       "    }\n",
       "\n",
       "    .dataframe tbody tr th {\n",
       "        vertical-align: top;\n",
       "    }\n",
       "\n",
       "    .dataframe thead th {\n",
       "        text-align: right;\n",
       "    }\n",
       "</style>\n",
       "<table border=\"1\" class=\"dataframe\">\n",
       "  <thead>\n",
       "    <tr style=\"text-align: right;\">\n",
       "      <th></th>\n",
       "      <th>sepal length (cm)</th>\n",
       "      <th>sepal width (cm)</th>\n",
       "      <th>petal length (cm)</th>\n",
       "      <th>petal width (cm)</th>\n",
       "    </tr>\n",
       "  </thead>\n",
       "  <tbody>\n",
       "    <tr>\n",
       "      <th>0</th>\n",
       "      <td>5.1</td>\n",
       "      <td>3.5</td>\n",
       "      <td>1.4</td>\n",
       "      <td>0.2</td>\n",
       "    </tr>\n",
       "    <tr>\n",
       "      <th>1</th>\n",
       "      <td>4.9</td>\n",
       "      <td>3.0</td>\n",
       "      <td>1.4</td>\n",
       "      <td>0.2</td>\n",
       "    </tr>\n",
       "    <tr>\n",
       "      <th>2</th>\n",
       "      <td>4.7</td>\n",
       "      <td>3.2</td>\n",
       "      <td>1.3</td>\n",
       "      <td>0.2</td>\n",
       "    </tr>\n",
       "    <tr>\n",
       "      <th>3</th>\n",
       "      <td>4.6</td>\n",
       "      <td>3.1</td>\n",
       "      <td>1.5</td>\n",
       "      <td>0.2</td>\n",
       "    </tr>\n",
       "    <tr>\n",
       "      <th>4</th>\n",
       "      <td>5.0</td>\n",
       "      <td>3.6</td>\n",
       "      <td>1.4</td>\n",
       "      <td>0.2</td>\n",
       "    </tr>\n",
       "  </tbody>\n",
       "</table>\n",
       "</div>"
      ],
      "text/plain": [
       "   sepal length (cm)  sepal width (cm)  petal length (cm)  petal width (cm)\n",
       "0                5.1               3.5                1.4               0.2\n",
       "1                4.9               3.0                1.4               0.2\n",
       "2                4.7               3.2                1.3               0.2\n",
       "3                4.6               3.1                1.5               0.2\n",
       "4                5.0               3.6                1.4               0.2"
      ]
     },
     "execution_count": 6,
     "metadata": {},
     "output_type": "execute_result"
    }
   ],
   "source": [
    "features.head()"
   ]
  },
  {
   "cell_type": "code",
   "execution_count": 9,
   "metadata": {},
   "outputs": [
    {
     "data": {
      "text/plain": [
       "0      0\n",
       "1      0\n",
       "2      0\n",
       "3      0\n",
       "4      0\n",
       "      ..\n",
       "145    2\n",
       "146    2\n",
       "147    2\n",
       "148    2\n",
       "149    2\n",
       "Length: 150, dtype: int32"
      ]
     },
     "execution_count": 9,
     "metadata": {},
     "output_type": "execute_result"
    }
   ],
   "source": [
    "label.head(150)"
   ]
  },
  {
   "cell_type": "code",
   "execution_count": 10,
   "metadata": {},
   "outputs": [
    {
     "data": {
      "text/plain": [
       "(150, 4)"
      ]
     },
     "execution_count": 10,
     "metadata": {},
     "output_type": "execute_result"
    }
   ],
   "source": [
    "features.shape"
   ]
  },
  {
   "cell_type": "code",
   "execution_count": 16,
   "metadata": {},
   "outputs": [
    {
     "name": "stdout",
     "output_type": "stream",
     "text": [
      "Best Accuracy: 0.967\n",
      "Best K: 7\n",
      "Best Distance: minkowski\n",
      "Best P Value: 4\n"
     ]
    }
   ],
   "source": [
    "from sklearn.neighbors import KNeighborsClassifier\n",
    "from sklearn.preprocessing import StandardScaler\n",
    "# from sklearn.model_selection import train_test_split\n",
    "from sklearn.model_selection import GridSearchCV\n",
    "import numpy as np\n",
    "\n",
    "#Normalizing the features\n",
    "norm = StandardScaler()\n",
    "features_norm = norm.fit_transform(features)\n",
    "\n",
    "\n",
    "# #Train/Test Split\n",
    "# features_train, label_train, features_test, label_test = train_test_split(features_norm, label, test_size=0.3, random_state=15)\n",
    "\n",
    "#Setting the model\n",
    "model = KNeighborsClassifier()\n",
    "\n",
    "#Values to be used with gridsearchCV\n",
    "k_values = [x+2 for x in range(1,14) if x%2 ==1] #np.array([3,5,7,9,11,15])\n",
    "distance_type_metric = ['minkowski','chebyshev'] \n",
    "p_values = np.array([1,2,3,4])\n",
    "params = {'n_neighbors': k_values, 'metric':distance_type_metric, 'p':p_values}\n",
    "\n",
    "#Grid Creation\n",
    "gridKNN = GridSearchCV(estimator=model, param_grid=params, cv=5)\n",
    "gridKNN.fit(features_norm, label)\n",
    "\n",
    "#Printing results\n",
    "print(f'Best Accuracy: {gridKNN.best_score_:.3f}')\n",
    "print(f'Best K: {gridKNN.best_estimator_.n_neighbors}')\n",
    "print(f'Best Distance: {gridKNN.best_estimator_.metric}')\n",
    "print(f'Best P Value: {gridKNN.best_estimator_.p}')"
   ]
  },
  {
   "cell_type": "code",
   "execution_count": 18,
   "metadata": {},
   "outputs": [
    {
     "name": "stdout",
     "output_type": "stream",
     "text": [
      "Best Accuracy: 0.973\n",
      "Best K: 5\n",
      "Best Distance: minkowski\n",
      "Best P Value: 3\n"
     ]
    }
   ],
   "source": [
    "from sklearn.neighbors import KNeighborsClassifier\n",
    "from sklearn.preprocessing import MinMaxScaler \n",
    "# from sklearn.model_selection import train_test_split\n",
    "from sklearn.model_selection import GridSearchCV\n",
    "import numpy as np\n",
    "\n",
    "#Normalizing the features\n",
    "minMaxNorm = MinMaxScaler(feature_range=(0,1))\n",
    "features_norm = minMaxNorm.fit_transform(features)\n",
    "\n",
    "# #Train/Test Split\n",
    "# features_train, label_train, features_test, label_test = train_test_split(features_norm, label, test_size=0.3, random_state=15)\n",
    "\n",
    "#Setting the model\n",
    "model = KNeighborsClassifier()\n",
    "\n",
    "#Values to be used with gridsearchCV\n",
    "k_values = [x+2 for x in range(1,14) if x%2 ==1] #np.array([3,5,7,9,11,15])\n",
    "distance_type_metric = ['minkowski','chebyshev'] \n",
    "p_values = np.array([1,2,3,4])\n",
    "params = {'n_neighbors': k_values, 'metric':distance_type_metric, 'p':p_values}\n",
    "\n",
    "#Grid Creation\n",
    "gridKNN = GridSearchCV(estimator=model, param_grid=params, cv=5)\n",
    "gridKNN.fit(features_norm, label)\n",
    "\n",
    "#Printing results\n",
    "print(f'Best Accuracy: {gridKNN.best_score_:.3f}')\n",
    "print(f'Best K: {gridKNN.best_estimator_.n_neighbors}')\n",
    "print(f'Best Distance: {gridKNN.best_estimator_.metric}')\n",
    "print(f'Best P Value: {gridKNN.best_estimator_.p}')"
   ]
  }
 ],
 "metadata": {
  "kernelspec": {
   "display_name": "Python 3",
   "language": "python",
   "name": "python3"
  },
  "language_info": {
   "codemirror_mode": {
    "name": "ipython",
    "version": 3
   },
   "file_extension": ".py",
   "mimetype": "text/x-python",
   "name": "python",
   "nbconvert_exporter": "python",
   "pygments_lexer": "ipython3",
   "version": "3.10.11"
  },
  "orig_nbformat": 4
 },
 "nbformat": 4,
 "nbformat_minor": 2
}
